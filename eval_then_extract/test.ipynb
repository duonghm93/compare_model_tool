{
 "cells": [
  {
   "cell_type": "code",
   "execution_count": 14,
   "metadata": {
    "collapsed": true
   },
   "outputs": [],
   "source": [
    "import os\n",
    "from pyspark.sql import SparkSession\n",
    "from pyspark.ml.classification import RandomForestClassificationModel\n",
    "from pyspark.sql.functions import col\n",
    "from pyspark.sql.functions import UserDefinedFunction\n",
    "from pyspark.sql.types import DoubleType\n",
    "from pyspark.ml.feature import VectorAssembler\n",
    "import pyspark.sql.functions as F\n",
    "import json\n",
    "import pickle\n",
    "import preproc_data"
   ]
  },
  {
   "cell_type": "code",
   "execution_count": 2,
   "metadata": {},
   "outputs": [],
   "source": [
    "MODEL_VERSION_INFO = {\n",
    "    'v2p1_7_40':{\n",
    "        'model_location': 'C:/Users/hoang/Desktop/check_25f_abnormal/',\n",
    "        # 'model_location': 'gs://reemo/models/dev/test_duong/test_j14/',\n",
    "        'model_folder': '20180430_v2p1_7_40',\n",
    "        'func_feature_names': preproc_data.get_names_features_v2p1,\n",
    "        'func_extract_column': preproc_data.extract_column_to_feature\n",
    "    },\n",
    "    'v2p1p2_10_80_25f':{\n",
    "        'model_location': 'C:/Users/hoang/Desktop/check_25f_abnormal/',\n",
    "        # 'model_location': 'gs://reemo/models/dev/test_duong/test_j14/',\n",
    "        'model_folder': '20180430_v2p1p2_10_80_25f_remake',\n",
    "        'func_feature_names': preproc_data.get_names_features_v2p1p2,\n",
    "        'func_extract_column': preproc_data.extract_column_to_feature\n",
    "    },\n",
    "    'v2p1p2_8_80_25f':{\n",
    "        # 'model_location': 'C:/Users/hoang/Desktop/check_25f_abnormal/',\n",
    "        'model_location': 'gs://reemo/models/dev/test_duong/test_j14/',\n",
    "        'model_folder': '20180430_v2p1p2_8_80_25f',\n",
    "        'func_feature_names': preproc_data.get_names_features_v2p1p2,\n",
    "        'func_extract_column': preproc_data.extract_column_to_feature\n",
    "    }\n",
    "}"
   ]
  },
  {
   "cell_type": "code",
   "execution_count": 3,
   "metadata": {},
   "outputs": [],
   "source": [
    "MODEL_FOLDER = 'ctr_model/model/'"
   ]
  },
  {
   "cell_type": "code",
   "execution_count": 4,
   "metadata": {},
   "outputs": [],
   "source": [
    "def make_feature(df, version_name, convmap):\n",
    "    for k in convmap:\n",
    "        df = df.withColumn(k + '_' + version_name, categorical_conv(convmap[k]))\n",
    "\n",
    "\n",
    "def get_convmap_dics(model_version, model_date):\n",
    "    model_location = _get_model_version_folder(model_version)\n",
    "    fn = 'convmap_ctr_model_%s.json' % model_date\n",
    "    local_fn = '%s_%s' % (model_version, fn)\n",
    "    gcs_fn = os.path.join(model_location, fn).replace('\\\\', '/')\n",
    "    print(local_fn)\n",
    "    print(gcs_fn)\n",
    "    os.system('gsutil cp %s %s' % (gcs_fn, local_fn))\n",
    "    return json.load(open(local_fn))\n",
    "\n",
    "\n",
    "def convert_name_features(name_features, version, category_fields):\n",
    "    return [field if field not in category_fields else field + '_' + version for field in name_features]\n",
    "\n",
    "\n",
    "def _get_model_version_folder(model_version):\n",
    "    version_infor = MODEL_VERSION_INFO[model_version]\n",
    "    return os.path.join(\n",
    "        version_infor['model_location'], MODEL_FOLDER, version_infor['model_folder']\n",
    "    ).replace('\\\\', '/')\n",
    "\n",
    "\n",
    "def get_model(model_version, spid, model_date):\n",
    "    model_version_location = _get_model_version_folder(model_version)\n",
    "    model_path = os.path.join(model_version_location, 'ctr_model_spid%d_%s' % (spid, model_date)).replace('\\\\', '/')\n",
    "    return RandomForestClassificationModel.load(model_path)\n",
    "\n",
    "\n",
    "def categorical_conv(convmap):\n",
    "    f = lambda x: convmap.get(str(x), -1.0)\n",
    "    return UserDefinedFunction(f, DoubleType())\n",
    "\n",
    "\n",
    "def predict_with_multiple_version(df, versions, model_date, spid):\n",
    "    columns = df.columns\n",
    "    for version_name in versions:\n",
    "        version_infor = MODEL_VERSION_INFO[version_name]\n",
    "        convmaps = get_convmap_dics(version_name, model_date)\n",
    "        for k in convmaps[str(spid)].keys():\n",
    "            df = df.withColumn(k + '_' + version_name, categorical_conv(convmaps[str(spid)][k])(col(k)))\n",
    "        name_features = version_infor['func_feature_names'](df)\n",
    "        name_features = convert_name_features(name_features, version_name, list(convmaps[str(spid)]))\n",
    "        df = VectorAssembler(inputCols=name_features, outputCol='features_%s' % version_name).transform(df)\n",
    "    print(df.columns)\n",
    "    predicted_list = []\n",
    "    for version_name in versions:\n",
    "        model = get_model(version_name, spid, model_date)\n",
    "        prob_col_name = 'prob_%s' % version_name\n",
    "        df = df.withColumn('features', col('features_%s' % version_name))\n",
    "        df = model.transform(df).withColumn(prob_col_name, UserDefinedFunction(lambda x: x.tolist()[1], DoubleType())(\n",
    "            col('probability')))\n",
    "        predicted_list.append(version_name)\n",
    "        df = df.select(columns + ['prob_%s' % v for v in predicted_list] + ['features_%s' % v for v in versions])\n",
    "    df = df.select(columns + ['prob_%s' % v for v in versions])\n",
    "    return df"
   ]
  },
  {
   "cell_type": "code",
   "execution_count": 6,
   "metadata": {},
   "outputs": [
    {
     "name": "stdout",
     "output_type": "stream",
     "text": [
      "v2p1_7_40_convmap_ctr_model_20180430.json\nC:/Users/hoang/Desktop/check_25f_abnormal/ctr_model/model/20180430_v2p1_7_40/convmap_ctr_model_20180430.json\n"
     ]
    },
    {
     "name": "stdout",
     "output_type": "stream",
     "text": [
      "['hr', 'dow', 'fq', 'recency', 'inview_fq', 'inview_recency', 'elapsed_time_rt', 'is_rt_any', 'is_same_domain', 'creative_type', 'os', 'prob_man', 'ctr_user', 'inview_ratio', 'ctr_slot', 'iv_ctr_slot', 'slot_category', 'slot_site_type', 'ctr_sp_slot', 'iv_ctr_sp_slot', 'prob_man_stats', 'uu_ratio', 'ctr_user_avg', 'hour_stats', 'dow_stats', 'slot_sponsor_rt_stats', 'slot_sponsor_cv_stats', 'sponsor_rt_probman_stats', 'sponsor_cv_probman_stats', 'sponsor_id', 'ssp_id', 'slot_id', 'dsp_id', 'is_click', 'creative_type_v2p1_7_40', 'is_rt_any_v2p1_7_40', 'os_v2p1_7_40', 'is_same_domain_v2p1_7_40', 'slot_category_v2p1_7_40', 'slot_site_type_v2p1_7_40', 'features_v2p1_7_40']\n"
     ]
    }
   ],
   "source": [
    "spark = SparkSession.builder.appName(\"calc_pred_ctr_slot\").getOrCreate()\n",
    "versions = ['v2p1_7_40']\n",
    "sponsor_id = 46\n",
    "# model_name = '20180430_v2p1p2_8_80_25f'\n",
    "model_date = '20180430'\n",
    "\n",
    "df = spark.read.csv(\n",
    "    'C:/Users/hoang/Desktop/check_25f_abnormal/ctr_model/training_data/spid%d/20180430_20180506' % sponsor_id,\n",
    "    header=True, inferSchema=True)\n",
    "df = preproc_data.preproc_v2p1(df)\n",
    "\n",
    "df = predict_with_multiple_version(df=df, versions=versions, model_date=model_date, spid=sponsor_id).cache()"
   ]
  },
  {
   "cell_type": "code",
   "execution_count": 9,
   "metadata": {},
   "outputs": [
    {
     "data": {
      "text/plain": [
       "['hr',\n 'dow',\n 'fq',\n 'recency',\n 'inview_fq',\n 'inview_recency',\n 'elapsed_time_rt',\n 'is_rt_any',\n 'is_same_domain',\n 'creative_type',\n 'os',\n 'prob_man',\n 'ctr_user',\n 'inview_ratio',\n 'ctr_slot',\n 'iv_ctr_slot',\n 'slot_category',\n 'slot_site_type',\n 'ctr_sp_slot',\n 'iv_ctr_sp_slot',\n 'prob_man_stats',\n 'uu_ratio',\n 'ctr_user_avg',\n 'hour_stats',\n 'dow_stats',\n 'slot_sponsor_rt_stats',\n 'slot_sponsor_cv_stats',\n 'sponsor_rt_probman_stats',\n 'sponsor_cv_probman_stats',\n 'sponsor_id',\n 'ssp_id',\n 'slot_id',\n 'dsp_id',\n 'is_click',\n 'prob_v2p1_7_40']"
      ]
     },
     "execution_count": 9,
     "metadata": {},
     "output_type": "execute_result"
    }
   ],
   "source": [
    "df.columns"
   ]
  },
  {
   "cell_type": "code",
   "execution_count": 12,
   "metadata": {},
   "outputs": [
    {
     "name": "stdout",
     "output_type": "stream",
     "text": [
      "+------+-------+--------------------+\n|ssp_id|slot_id| avg(prob_v2p1_7_40)|\n+------+-------+--------------------+\n|     1|  38205|9.831650944377621E-4|\n|     1|  40293|0.002503490912265927|\n|     1|  37893|1.274543035737063E-4|\n|     1|  23534|1.518064553194205...|\n|     1|  30036|3.318074029513365E-4|\n|     1|  33195|1.217768771785300...|\n|     1|  19607|8.758319749406891E-5|\n|     1|  36063|0.001548419034140...|\n|     1|  30234| 7.06011883398962E-4|\n|     1|  31977|0.001561437993093...|\n|     1|  21739|1.886742777528509...|\n|     1|  27833|0.001159563807774...|\n|     1|  28678|8.080484093612346E-4|\n|     1|  36142|0.001090145112101...|\n|     1|  32899|0.001310493652108...|\n|     1|  27973|0.001628243178627917|\n|     1|  29426|1.005185086303680...|\n|     1|  28679|8.744358974527624E-5|\n|     1|  37894|2.032425638188467...|\n|     1|  41436|5.375235095516819E-4|\n+------+-------+--------------------+\nonly showing top 20 rows\n\n"
     ]
    }
   ],
   "source": [
    "df.select('ssp_id', 'slot_id', 'prob_%s'%versions[0]).groupBy('ssp_id', 'slot_id').avg('prob_%s'%versions[0]).show()"
   ]
  },
  {
   "cell_type": "code",
   "execution_count": 15,
   "metadata": {},
   "outputs": [
    {
     "name": "stdout",
     "output_type": "stream",
     "text": [
      "+------+-------+--------------------+\n|ssp_id|slot_id|             ctr_avg|\n+------+-------+--------------------+\n|     1|  38205|9.831650944377621E-4|\n|     1|  40293|0.002503490912265927|\n|     1|  37893|1.274543035737063E-4|\n|     1|  23534|1.518064553194205...|\n|     1|  30036|3.318074029513365E-4|\n|     1|  33195|1.217768771785300...|\n|     1|  19607|8.758319749406891E-5|\n|     1|  36063|0.001548419034140...|\n|     1|  30234| 7.06011883398962E-4|\n|     1|  31977|0.001561437993093...|\n|     1|  21739|1.886742777528509...|\n|     1|  27833|0.001159563807774...|\n|     1|  28678|8.080484093612346E-4|\n|     1|  36142|0.001090145112101...|\n|     1|  32899|0.001310493652108...|\n|     1|  27973|0.001628243178627917|\n|     1|  29426|1.005185086303680...|\n|     1|  28679|8.744358974527624E-5|\n|     1|  37894|2.032425638188467...|\n|     1|  41436|5.375235095516819E-4|\n+------+-------+--------------------+\nonly showing top 20 rows\n\n"
     ]
    }
   ],
   "source": [
    "df.select('ssp_id', 'slot_id', 'prob_%s'%versions[0]).groupBy('ssp_id', 'slot_id').agg(F.avg(col('prob_%s'%versions[0])).alias('ctr_avg')).show()"
   ]
  },
  {
   "cell_type": "code",
   "execution_count": null,
   "metadata": {},
   "outputs": [],
   "source": [
    ""
   ]
  }
 ],
 "metadata": {
  "kernelspec": {
   "display_name": "Python 2",
   "language": "python",
   "name": "python2"
  },
  "language_info": {
   "codemirror_mode": {
    "name": "ipython",
    "version": 2.0
   },
   "file_extension": ".py",
   "mimetype": "text/x-python",
   "name": "python",
   "nbconvert_exporter": "python",
   "pygments_lexer": "ipython2",
   "version": "2.7.6"
  }
 },
 "nbformat": 4,
 "nbformat_minor": 0
}